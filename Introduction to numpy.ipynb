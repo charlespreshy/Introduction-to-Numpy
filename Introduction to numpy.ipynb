{
 "cells": [
  {
   "cell_type": "markdown",
   "metadata": {},
   "source": [
    "## Introduction to numpy\n",
    "\n",
    "Numpy is a python library for handling arrays. The word numpy stands for NUMerical PYthon.\n",
    "\n",
    "What is an array?\n",
    "\n",
    "An array is a data structure of elements of the same data type stored using the same variable name and accesible through index. Every aray is zero indexed. It helps in memory management\n",
    "\n",
    "##### Use of array\n",
    "The elements are all of the same data type.\n",
    "\n",
    "#### To install numpy\n",
    "pip install numpy\n",
    "\n",
    "N/B: If you are using anaconda, then you already have numpy.\n",
    "\n",
    "The Ndarray is numpy's basic structure for dealing with a collection of the same type.\n",
    "\n",
    "To create an array from a list,\n",
    "\n",
    "numpy.array(list)\n",
    "\n",
    "##### syntax:\n",
    "\n",
    "numpy.array(object, dtype = None, copy = True, order = None, subok = False, ndmin = 0)\n",
    "\n",
    "Object is the list to convert to array\n",
    "\n",
    "dtype - the numpy dtype of elements of resultant array\n",
    "\n",
    "copy - the list is copied (default)\n",
    "\n",
    "order - C (row major) of F (column major) or A (any) (default)\n",
    "\n",
    "subok - By default, returned array forced to be a base class array. If true, sub-classes passed through\n",
    "\n",
    "ndmin - specifies minimum dimensions of resultant array.\n",
    "\n",
    "##### Numpy datatypes(dtypes) includes\n",
    "\n",
    "- bool\n",
    "- int\n",
    "- intc\n",
    "- intp\n",
    "- int8 (-128 to 127)\n",
    "- int16 (-32768 to 32768)\n",
    "- int32\n",
    "- int64\n",
    "- uint8\n",
    "- uint16\n",
    "- uint32\n",
    "- uint64\n",
    "- float\n",
    "- float16\n",
    "- float32\n",
    "- float64\n",
    "- complex\n",
    "- complex64\n",
    "- complex128\n",
    "\n",
    "##### Attributes\n",
    "\n",
    "- shape: gives the dimension of the array. It can also be used to resize the array\n",
    "- arange: create a one dimensional array from 0 to number specified\n",
    "- reshape: change the shape of an array\n",
    "- itemsize: returns length of each element of array in bytes"
   ]
  },
  {
   "cell_type": "code",
   "execution_count": 2,
   "metadata": {},
   "outputs": [
    {
     "name": "stdout",
     "output_type": "stream",
     "text": [
      "[4, 7, 2, 6, 7]\n",
      "[[4 7 2 6 7]]\n"
     ]
    }
   ],
   "source": [
    "import numpy as np\n",
    "data = [4,7,2,6,7]\n",
    "\n",
    "data_array = np.array(data, dtype = int, order = \"C\", ndmin = 2)\n",
    "\n",
    "print(data)\n",
    "print(data_array)"
   ]
  },
  {
   "cell_type": "code",
   "execution_count": 2,
   "metadata": {},
   "outputs": [
    {
     "name": "stdout",
     "output_type": "stream",
     "text": [
      "[[2, 3, 4], [6, 7, 8], [23, 13, 5]]\n",
      "[[ 2  3  4]\n",
      " [ 6  7  8]\n",
      " [23 13  5]]\n",
      "[[ 4  6  8]\n",
      " [12 14 16]\n",
      " [46 26 10]]\n"
     ]
    }
   ],
   "source": [
    "#converting nested list into multidimentional array\n",
    "\n",
    "l = [\n",
    "    [2,3,4],\n",
    "    [6,7,8],\n",
    "    [23,13,5]\n",
    "]\n",
    "\n",
    "lr = np.array(l,order = \"C\")\n",
    "print(l)\n",
    "print(lr)\n",
    "\n",
    "mt_lr = lr * 2\n",
    "print(mt_lr)"
   ]
  },
  {
   "cell_type": "code",
   "execution_count": 3,
   "metadata": {},
   "outputs": [
    {
     "name": "stdout",
     "output_type": "stream",
     "text": [
      "[[ 2  4  6  7  0  3  5]\n",
      " [ 0  1  3  6  7  4  6]\n",
      " [ 1  4  8  2  4  4 11]]\n"
     ]
    }
   ],
   "source": [
    "mylist = [\n",
    "          [2,4,6,7,0,3,5],\n",
    "          [0,1,3,6,7,4,6],\n",
    "          [1,4,8,2,4,4,11]\n",
    "]\n",
    "\n",
    "mylist_array = np.array(mylist)\n",
    "print(mylist_array)"
   ]
  },
  {
   "cell_type": "code",
   "execution_count": 4,
   "metadata": {},
   "outputs": [
    {
     "name": "stdout",
     "output_type": "stream",
     "text": [
      "(3, 7)\n"
     ]
    }
   ],
   "source": [
    "#shape of the array\n",
    "print(mylist_array.shape)"
   ]
  },
  {
   "cell_type": "code",
   "execution_count": 5,
   "metadata": {},
   "outputs": [
    {
     "name": "stdout",
     "output_type": "stream",
     "text": [
      "[[ 2  4  6]\n",
      " [ 7  0  3]\n",
      " [ 5  0  1]\n",
      " [ 3  6  7]\n",
      " [ 4  6  1]\n",
      " [ 4  8  2]\n",
      " [ 4  4 11]]\n"
     ]
    }
   ],
   "source": [
    "#resize array\n",
    "mylist_array.shape = (7,3)\n",
    "print(mylist_array)"
   ]
  },
  {
   "cell_type": "code",
   "execution_count": 6,
   "metadata": {},
   "outputs": [
    {
     "name": "stdout",
     "output_type": "stream",
     "text": [
      "[ 0  1  2  3  4  5  6  7  8  9 10 11]\n",
      "(12,)\n",
      "[[ 0  1  2  3  4  5]\n",
      " [ 6  7  8  9 10 11]]\n"
     ]
    }
   ],
   "source": [
    "#arange \n",
    "\n",
    "'''Creates a one-dimentional array of the specified range'''\n",
    "\n",
    "new_array = np.arange(12)\n",
    "print(new_array)\n",
    "print(new_array.shape)\n",
    "\n",
    "new_array.shape = (2,6)\n",
    "print(new_array)"
   ]
  },
  {
   "cell_type": "code",
   "execution_count": 7,
   "metadata": {},
   "outputs": [
    {
     "name": "stdout",
     "output_type": "stream",
     "text": [
      "[ 0  1  2  3  4  5  6  7  8  9 10 11 12 13 14 15 16 17]\n",
      "(18,)\n",
      "[[ 0  1]\n",
      " [ 2  3]\n",
      " [ 4  5]\n",
      " [ 6  7]\n",
      " [ 8  9]\n",
      " [10 11]\n",
      " [12 13]\n",
      " [14 15]\n",
      " [16 17]]\n",
      "[[[ 0  1  2]\n",
      "  [ 3  4  5]\n",
      "  [ 6  7  8]]\n",
      "\n",
      " [[ 9 10 11]\n",
      "  [12 13 14]\n",
      "  [15 16 17]]]\n",
      "[[ 0  1]\n",
      " [ 2  3]\n",
      " [ 4  5]\n",
      " [ 6  7]\n",
      " [ 8  9]\n",
      " [10 11]\n",
      " [12 13]\n",
      " [14 15]\n",
      " [16 17]]\n"
     ]
    }
   ],
   "source": [
    "#reshape\n",
    "\n",
    "'''changes the shape of an array'''\n",
    "\n",
    "alist = np.arange(18)\n",
    "print(alist)\n",
    "\n",
    "#shape of array\n",
    "print(alist.shape)\n",
    "\n",
    "#resize\n",
    "alist.shape = (9,2)\n",
    "print(alist)\n",
    "\n",
    "'''n/b: this alters the original shape of the list\n",
    "#alist.shape = (2,3,3)\n",
    "#print(alist)'''\n",
    "\n",
    "#using reshape: this creates a new list of the reshaped list, but still keeps the original list\n",
    "blist = alist.reshape(2,3,3)\n",
    "print(blist)\n",
    "\n",
    "#printing the original\n",
    "print(alist)"
   ]
  },
  {
   "cell_type": "markdown",
   "metadata": {},
   "source": [
    "#### Array creation\n",
    "\n",
    "- empty: Creates an empty array of specified shape\n",
    "- zeroes: creates an array filled with zeroes\n",
    "- ones: creates an array filled with ones"
   ]
  },
  {
   "cell_type": "code",
   "execution_count": 8,
   "metadata": {},
   "outputs": [
    {
     "name": "stdout",
     "output_type": "stream",
     "text": [
      "[[535705472       250]\n",
      " [        0         0]]\n"
     ]
    }
   ],
   "source": [
    "#empty array creation\n",
    "\n",
    "s = np.empty([2,2], dtype = int)\n",
    "print(s)"
   ]
  },
  {
   "cell_type": "code",
   "execution_count": 9,
   "metadata": {},
   "outputs": [
    {
     "name": "stdout",
     "output_type": "stream",
     "text": [
      "[[0 0 0 0 0 0 0 0 0]\n",
      " [0 0 0 0 0 0 0 0 0]\n",
      " [0 0 0 0 0 0 0 0 0]]\n"
     ]
    }
   ],
   "source": [
    "d = np.zeros([3,9], dtype = int)\n",
    "print(d)"
   ]
  },
  {
   "cell_type": "code",
   "execution_count": 10,
   "metadata": {},
   "outputs": [
    {
     "name": "stdout",
     "output_type": "stream",
     "text": [
      "[ 0  1  2  3  4  5  6  7  8  9 10 11 12 13 14 15 16 17 18 19 20 21 22 23\n",
      " 24 25 26 27 28 29 30 31 32 33]\n",
      "[ 0.  1.  2.  3.  4.  5.  6.  7.  8.  9. 10. 11. 12. 13. 14. 15. 16. 17.\n",
      " 18. 19. 20. 21. 22. 23. 24. 25. 26. 27. 28. 29. 30. 31. 32. 33.]\n",
      "[12 14 16 18 20 22 24 26 28 30 32]\n",
      "[12.  16.4 20.8 25.2 29.6 34. ]\n",
      "1.16.2\n"
     ]
    }
   ],
   "source": [
    "#arange() - used for creating an array from a range\n",
    "\n",
    "'''start, stop, step, dtype'''\n",
    "\n",
    "ex = np.arange(34)\n",
    "print(ex)\n",
    "\n",
    "#with dtype\n",
    "ed = np.arange(34, dtype = float)\n",
    "print(ed)\n",
    "\n",
    "#with stop and step\n",
    "es = np.arange(12,34,2)\n",
    "print(es)\n",
    "\n",
    "#linspace: this is used to create a multidimentional array that is equally space\n",
    "el = np.linspace(12,34,6)#this creates array of numbers(elements) equally spaced from 12 and 34 divided by 6.\n",
    "print(el)\n",
    "\n",
    "print(np.__version__)"
   ]
  },
  {
   "cell_type": "markdown",
   "metadata": {},
   "source": [
    "#### Quiz:\n",
    "1. create an array of range using a number entered by a user\n",
    "2. convert the array in 1 above to a 2-dimentional array\n",
    "3. generate another array which is equal of the elements in the array 2 above divided by 0.5"
   ]
  },
  {
   "cell_type": "code",
   "execution_count": 15,
   "metadata": {},
   "outputs": [
    {
     "name": "stdout",
     "output_type": "stream",
     "text": [
      "Enter a number: 23\n",
      "[ 5  6  7  8  9 10 11 12 13 14 15 16 17 18 19 20 21 22]\n",
      "(18,)\n"
     ]
    }
   ],
   "source": [
    "#A program create an array of range using a number entered by a user\n",
    "\n",
    "number = int(input(\"Enter a number: \"))\n",
    "\n",
    "num = np.arange(5,number)\n",
    "print(num)\n",
    "print(num.shape)"
   ]
  },
  {
   "cell_type": "code",
   "execution_count": 16,
   "metadata": {},
   "outputs": [
    {
     "name": "stdout",
     "output_type": "stream",
     "text": [
      "[[ 5  6]\n",
      " [ 7  8]\n",
      " [ 9 10]\n",
      " [11 12]\n",
      " [13 14]\n",
      " [15 16]\n",
      " [17 18]\n",
      " [19 20]\n",
      " [21 22]]\n"
     ]
    }
   ],
   "source": [
    "#converting the array above to a 2-dimentional array\n",
    "\n",
    "num.shape = (9,2)\n",
    "print(num)"
   ]
  },
  {
   "cell_type": "code",
   "execution_count": 17,
   "metadata": {},
   "outputs": [
    {
     "name": "stdout",
     "output_type": "stream",
     "text": [
      "[ 5.   5.5  6.   6.5  7.   7.5  8.   8.5  9.   9.5 10.  10.5 11.  11.5\n",
      " 12.  12.5 13.  13.5 14.  14.5 15.  15.5 16.  16.5 17.  17.5 18.  18.5\n",
      " 19.  19.5 20.  20.5 21.  21.5 22.  22.5]\n"
     ]
    }
   ],
   "source": [
    "#generating another array which is equal of the elements in the array above divided by 0.5\n",
    "\n",
    "nd = np.arange(5,number,0.5)\n",
    "print(nd)"
   ]
  },
  {
   "cell_type": "code",
   "execution_count": 18,
   "metadata": {},
   "outputs": [
    {
     "name": "stdout",
     "output_type": "stream",
     "text": [
      "[[10. 12.]\n",
      " [14. 16.]\n",
      " [18. 20.]\n",
      " [22. 24.]\n",
      " [26. 28.]\n",
      " [30. 32.]\n",
      " [34. 36.]\n",
      " [38. 40.]\n",
      " [42. 44.]]\n"
     ]
    }
   ],
   "source": [
    "#correction for number 3\n",
    "\n",
    "nd = num/0.5\n",
    "print(nd)"
   ]
  },
  {
   "cell_type": "markdown",
   "metadata": {},
   "source": [
    "#### Slicing\n",
    "Slicing in python is simply a part of a string, list or array\n",
    "\n",
    "name = \"precious charles\"\n",
    "\n",
    "print(name[4])\n",
    "\n",
    "output: c\n",
    "\n",
    "print(name[2:5])\n",
    "\n",
    "output: reci\n",
    "\n",
    "N/B: this operation can also be done on mumpy arrays."
   ]
  },
  {
   "cell_type": "code",
   "execution_count": 19,
   "metadata": {},
   "outputs": [
    {
     "name": "stdout",
     "output_type": "stream",
     "text": [
      "[0 1 2 3 4 5 6 7 8 9]\n",
      "4\n",
      "[0 1 2 3]\n",
      "[2 3]\n",
      "[2 4 6]\n"
     ]
    }
   ],
   "source": [
    "a = np.arange(10)\n",
    "print(a)\n",
    "\n",
    "#slice\n",
    "print(a[4]) #print element at index 4\n",
    "\n",
    "print(a[:4]) #print elements from beginning of array to index 4\n",
    "print(a[2:4]) #print elements from index 2 to index 5\n",
    "print(a[2:7:2]) #print elements from index 2 to index 7 step 2"
   ]
  },
  {
   "cell_type": "code",
   "execution_count": 20,
   "metadata": {},
   "outputs": [
    {
     "name": "stdout",
     "output_type": "stream",
     "text": [
      "[[0 1]\n",
      " [2 3]\n",
      " [4 5]\n",
      " [6 7]\n",
      " [8 9]]\n",
      "[4 5]\n"
     ]
    }
   ],
   "source": [
    "b = a.reshape(5,2)\n",
    "print(b)\n",
    "\n",
    "#slicing\n",
    "print(b[2])"
   ]
  },
  {
   "cell_type": "code",
   "execution_count": 21,
   "metadata": {},
   "outputs": [
    {
     "name": "stdout",
     "output_type": "stream",
     "text": [
      "[[4 5]\n",
      " [6 7]\n",
      " [8 9]]\n",
      "[[6 7]]\n",
      "[[4 5]\n",
      " [6 7]\n",
      " [8 9]]\n"
     ]
    }
   ],
   "source": [
    "print(b[2:])\n",
    "print(b[3:4])\n",
    "print(b[2:5])"
   ]
  },
  {
   "cell_type": "code",
   "execution_count": 22,
   "metadata": {},
   "outputs": [
    {
     "name": "stdout",
     "output_type": "stream",
     "text": [
      "[[1 2 3]\n",
      " [3 4 5]\n",
      " [4 5 6]]\n",
      "\n",
      "\n",
      "[2 4 5]\n",
      "\n",
      "\n",
      "[3 4 5]\n"
     ]
    }
   ],
   "source": [
    "#use of ellipsis in slicing (...)\n",
    "\n",
    "a = np.array([[1,2,3],[3,4,5],[4,5,6]])\n",
    "print(a)\n",
    "print(\"\\n\")\n",
    "\n",
    "print(a[...,1]) #prints all the row elements in column index 1\n",
    "print(\"\\n\")\n",
    "print(a[1,...]) #prints all the column elements in row index 1"
   ]
  },
  {
   "cell_type": "raw",
   "metadata": {},
   "source": [
    "Exercises\n",
    "\n",
    "1. create a 3 by 3 array of ones. Your output should look like this:\n",
    "    [[1 1 1\n",
    "      1 1 1\n",
    "      1 1 1 ]]\n",
    "      \n",
    "2. create a 3 by 3 array of true values. Your output should look like this:\n",
    "    [[True True True\n",
    "      True True True\n",
    "      True True True ]]\n",
    "      \n",
    "3. Create an array range from 4 to a number input by the user. Reshapen this array into 2 dimentional array. But take note:\n",
    "    If a user enters a number < 4, your program should exit with an error message.\n",
    "    If the user enters a number that is not divisible by 4, your program should exit with a warning.\n",
    "    \n",
    "4. Given two lists: \n",
    "    a = [2,4,5]\n",
    "    b = [[4,5,6], [6,7,8]]\n",
    "    \n",
    "   Create an array that satisfies the condition a * b"
   ]
  },
  {
   "cell_type": "code",
   "execution_count": 23,
   "metadata": {},
   "outputs": [
    {
     "name": "stdout",
     "output_type": "stream",
     "text": [
      "[[1 1 1]\n",
      " [1 1 1]\n",
      " [1 1 1]]\n"
     ]
    }
   ],
   "source": [
    "#a 3 by 3 array of ones.\n",
    "\n",
    "x = np.ones([3,3], dtype = int)\n",
    "print(x)"
   ]
  },
  {
   "cell_type": "code",
   "execution_count": 24,
   "metadata": {},
   "outputs": [
    {
     "name": "stdout",
     "output_type": "stream",
     "text": [
      "[[ True  True  True]\n",
      " [ True  True False]\n",
      " [False False False]]\n"
     ]
    }
   ],
   "source": [
    "#a 3 by 3 array of true values\n",
    "\n",
    "y = np.empty([3,3], dtype = bool)\n",
    "print(y)"
   ]
  },
  {
   "cell_type": "code",
   "execution_count": 9,
   "metadata": {},
   "outputs": [
    {
     "name": "stdout",
     "output_type": "stream",
     "text": [
      "[[ True  True  True]\n",
      " [ True  True  True]\n",
      " [ True  True  True]]\n"
     ]
    }
   ],
   "source": [
    "#second method for the code above\n",
    "\n",
    "y = np.full(shape = [3,3], dtype = bool, fill_value = True)\n",
    "print(y)"
   ]
  },
  {
   "cell_type": "code",
   "execution_count": 5,
   "metadata": {},
   "outputs": [
    {
     "name": "stdout",
     "output_type": "stream",
     "text": [
      "Enter a number: 24\n",
      "24\n",
      "[ 4  5  6  7  8  9 10 11 12 13 14 15 16 17 18 19 20 21 22 23]\n",
      "20\n",
      "(4, 5)\n",
      "[[ 4  5  6  7  8]\n",
      " [ 9 10 11 12 13]\n",
      " [14 15 16 17 18]\n",
      " [19 20 21 22 23]]\n"
     ]
    }
   ],
   "source": [
    "#an array range from 4 to a number input by the user. Reshaping the array into 2 dimentional array.\n",
    "\n",
    "new_num = int(input(\"Enter a number: \"))\n",
    "\n",
    "#for i in range(new_num):\n",
    "if new_num < 4:\n",
    "    print(\"You just entered a number out of range!\")\n",
    "    #break\n",
    "    exit()\n",
    "    \n",
    "elif new_num % 4 != 0:\n",
    "    print(\"Sorry!, Try entering a number divisible by 4.\")\n",
    "    #break\n",
    "    exit()\n",
    "else:\n",
    "    print(new_num)\n",
    "    newarray = np.arange(4,new_num)\n",
    "    print(newarray)\n",
    "    \n",
    "    size = len(newarray)\n",
    "    print(size)\n",
    "\n",
    "\n",
    "    #reshape\n",
    "    newarray.shape = (4, int(size/4))\n",
    "    print(newarray.shape)\n",
    "    print(newarray)\n"
   ]
  },
  {
   "cell_type": "code",
   "execution_count": 6,
   "metadata": {},
   "outputs": [
    {
     "name": "stdout",
     "output_type": "stream",
     "text": [
      "[[ 8 20 30]\n",
      " [12 28 40]]\n"
     ]
    }
   ],
   "source": [
    "#an array that satisfies the condition a * b\n",
    "\n",
    "a = [2,4,5]\n",
    "b = [[4,5,6], [6,7,8]]\n",
    "\n",
    "c = np.multiply(a,b)\n",
    "print(c)"
   ]
  },
  {
   "cell_type": "code",
   "execution_count": 7,
   "metadata": {},
   "outputs": [
    {
     "name": "stdout",
     "output_type": "stream",
     "text": [
      "[[ 8 20 30]\n",
      " [12 28 40]]\n"
     ]
    }
   ],
   "source": [
    "#another method for the calculation in the cell above\n",
    "\n",
    "a = np.array([2,4,5])\n",
    "b = np.array([[4,5,6], [6,7,8]])\n",
    "\n",
    "c = a * b\n",
    "print(c)\n"
   ]
  }
 ],
 "metadata": {
  "kernelspec": {
   "display_name": "Python 3",
   "language": "python",
   "name": "python3"
  },
  "language_info": {
   "codemirror_mode": {
    "name": "ipython",
    "version": 3
   },
   "file_extension": ".py",
   "mimetype": "text/x-python",
   "name": "python",
   "nbconvert_exporter": "python",
   "pygments_lexer": "ipython3",
   "version": "3.7.3"
  }
 },
 "nbformat": 4,
 "nbformat_minor": 2
}
